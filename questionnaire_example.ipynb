{
 "metadata": {
  "name": "questionnaire_example"
 },
 "nbformat": 3,
 "nbformat_minor": 0,
 "worksheets": [
  {
   "cells": [
    {
     "cell_type": "code",
     "collapsed": false,
     "input": [
      "import affinity\n",
      "import dual_affinity\n",
      "import markov\n",
      "import bintree_construct\n",
      "import viewer_files"
     ],
     "language": "python",
     "metadata": {},
     "outputs": [],
     "prompt_number": 1
    },
    {
     "cell_type": "code",
     "collapsed": false,
     "input": [
      "#load the depolarized questionnaire\n",
      "%run load_data.py de"
     ],
     "language": "python",
     "metadata": {},
     "outputs": [],
     "prompt_number": 2
    },
    {
     "cell_type": "code",
     "collapsed": false,
     "input": [
      "whos"
     ],
     "language": "python",
     "metadata": {},
     "outputs": [
      {
       "output_type": "stream",
       "stream": "stdout",
       "text": [
        "Variable            Type       Data/Info\n",
        "----------------------------------------\n",
        "DEFAULT_DATA_PATH   str        /users/jerrod/Google Driv<...>ire_2D_20130614/Examples/\n",
        "affinity            module     <module 'affinity' from 'affinity.pyc'>\n",
        "bintree_construct   module     <module 'bintree_construc<...> 'bintree_construct.pyc'>\n",
        "data                ndarray    567Lx2428L: 1376676 elems, type `int16`, 2753352 bytes (2 Mb)\n",
        "data_file           str        MMPI2_Depolarized.mat\n",
        "dual_affinity       module     <module 'dual_affinity' from 'dual_affinity.pyc'>\n",
        "markov              module     <module 'markov' from 'markov.pyc'>\n",
        "mdict               dict       n=7\n",
        "p_score_descs       list       n=18\n",
        "p_scores            ndarray    18Lx2428L: 43704 elems, type `float64`, 349632 bytes (341 kb)\n",
        "q_descs             list       n=567\n",
        "scipy               module     <module 'scipy' from 'C:\\<...>ages\\scipy\\__init__.pyc'>\n",
        "sys                 module     <module 'sys' (built-in)>\n",
        "viewer_files        module     <module 'viewer_files' from 'viewer_files.pyc'>\n",
        "x                   ndarray    1L: 1 elems, type `<U3`, 12 bytes\n"
       ]
      }
     ],
     "prompt_number": 3
    },
    {
     "cell_type": "code",
     "collapsed": false,
     "input": [
      "#Generate initial affinity\n",
      "init_row_aff = affinity.mutual_cosine_similarity(data.T,False,0,0.1)"
     ],
     "language": "python",
     "metadata": {},
     "outputs": [],
     "prompt_number": 4
    },
    {
     "cell_type": "code",
     "collapsed": false,
     "input": [
      "#compute initial diffusion embedding\n",
      "init_row_vecs,init_row_vals = markov.markov_eigs(init_row_aff, 12)"
     ],
     "language": "python",
     "metadata": {},
     "outputs": [],
     "prompt_number": 5
    },
    {
     "cell_type": "code",
     "collapsed": false,
     "input": [
      "#construct initial tree with median cut\n",
      "init_row_tree = bintree_construct.median_tree(init_row_vecs,init_row_vals,max_levels=12)"
     ],
     "language": "python",
     "metadata": {},
     "outputs": [],
     "prompt_number": 6
    },
    {
     "cell_type": "code",
     "collapsed": false,
     "input": [
      "#write out tree viewer info\n",
      "viewer_files.write_tree_viewer(\"row_tree.pickle\",init_row_tree,init_row_vecs,init_row_vals,q_descs,\"Questions\")"
     ],
     "language": "python",
     "metadata": {},
     "outputs": [],
     "prompt_number": 7
    },
    {
     "cell_type": "code",
     "collapsed": false,
     "input": [
      "%run tree_viewer.py row_tree.pickle"
     ],
     "language": "python",
     "metadata": {},
     "outputs": [],
     "prompt_number": 8
    },
    {
     "cell_type": "code",
     "collapsed": false,
     "input": [
      "row_trees = [init_row_tree]\n",
      "col_trees = []"
     ],
     "language": "python",
     "metadata": {},
     "outputs": [],
     "prompt_number": 9
    },
    {
     "cell_type": "code",
     "collapsed": false,
     "input": [
      "#calculate the EMD on the columns using the row tree\n",
      "col_trees.append(bintree_construct.eigen_tree(data,row_trees[-1]))"
     ],
     "language": "python",
     "metadata": {},
     "outputs": [],
     "prompt_number": 10
    },
    {
     "cell_type": "code",
     "collapsed": false,
     "input": [
      "col_emd = dual_affinity.calc_emd(data,row_trees[-1])\n",
      "col_aff = dual_affinity.emd_dual_aff(col_emd)\n",
      "col_vecs,col_vals = markov.markov_eigs(col_aff,12)"
     ],
     "language": "python",
     "metadata": {},
     "outputs": [],
     "prompt_number": 11
    },
    {
     "cell_type": "code",
     "collapsed": false,
     "input": [
      "viewer_files.write_tree_viewer(\"col_tree.pickle\",col_trees[-1],col_vecs,col_vals,tree_desc=\"People\")"
     ],
     "language": "python",
     "metadata": {},
     "outputs": [],
     "prompt_number": 12
    },
    {
     "cell_type": "code",
     "collapsed": false,
     "input": [
      "%run tree_viewer.py col_tree.pickle"
     ],
     "language": "python",
     "metadata": {},
     "outputs": [
      {
       "output_type": "stream",
       "stream": "stderr",
       "text": [
        "C:\\Python27\\lib\\site-packages\\matplotlib\\__init__.py:1033: UserWarning:  This call to matplotlib.use() has no effect\n",
        "because the the backend has already been chosen;\n",
        "matplotlib.use() must be called *before* pylab, matplotlib.pyplot,\n",
        "or matplotlib.backends is imported for the first time.\n",
        "\n",
        "  warnings.warn(_use_error_msg)\n"
       ]
      }
     ],
     "prompt_number": 13
    },
    {
     "cell_type": "code",
     "collapsed": false,
     "input": [
      "for _ in xrange(3):\n",
      "    row_trees.append(bintree_construct.eigen_tree(data.T,col_trees[-1]))\n",
      "    col_trees.append(bintree_construct.eigen_tree(data,row_trees[-1]))"
     ],
     "language": "python",
     "metadata": {},
     "outputs": [],
     "prompt_number": 14
    },
    {
     "cell_type": "code",
     "collapsed": false,
     "input": [
      "row_emd = dual_affinity.calc_emd(data.T,col_trees[-1])\n",
      "row_aff = dual_affinity.emd_dual_aff(row_emd)\n",
      "row_vecs,row_vals = markov.markov_eigs(row_aff,12)\n",
      "col_emd = dual_affinity.calc_emd(data,row_trees[-1])\n",
      "col_aff = dual_affinity.emd_dual_aff(col_emd)\n",
      "col_vecs,col_vals = markov.markov_eigs(col_aff,12)\n",
      "\n",
      "viewer_files.write_question_viewer(\"qv.pickle\",data,row_trees[-1],col_trees[-1],row_vecs,row_vals,col_vecs,col_vals,q_descs,p_score_descs,p_scores)"
     ],
     "language": "python",
     "metadata": {},
     "outputs": [],
     "prompt_number": 15
    },
    {
     "cell_type": "code",
     "collapsed": false,
     "input": [
      "%run question_viewer.py qv.pickle"
     ],
     "language": "python",
     "metadata": {},
     "outputs": [],
     "prompt_number": 16
    },
    {
     "cell_type": "code",
     "collapsed": false,
     "input": [],
     "language": "python",
     "metadata": {},
     "outputs": [],
     "prompt_number": 16
    }
   ],
   "metadata": {}
  }
 ]
}