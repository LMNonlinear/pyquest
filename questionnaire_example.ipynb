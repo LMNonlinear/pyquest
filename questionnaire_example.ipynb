{
 "metadata": {
  "name": "questionnaire_example"
 },
 "nbformat": 3,
 "nbformat_minor": 0,
 "worksheets": [
  {
   "cells": [
    {
     "cell_type": "code",
     "collapsed": false,
     "input": [
      "import affinity\n",
      "import dual_affinity\n",
      "import markov\n",
      "import bintree_construct\n",
      "reload(bintree_construct)\n",
      "import viewer_files"
     ],
     "language": "python",
     "metadata": {},
     "outputs": [],
     "prompt_number": 11
    },
    {
     "cell_type": "code",
     "collapsed": false,
     "input": [
      "#load the depolarized questionnaire\n",
      "%run load_data.py de"
     ],
     "language": "python",
     "metadata": {},
     "outputs": [],
     "prompt_number": 2
    },
    {
     "cell_type": "code",
     "collapsed": false,
     "input": [
      "whos"
     ],
     "language": "python",
     "metadata": {},
     "outputs": [
      {
       "output_type": "stream",
       "stream": "stdout",
       "text": [
        "Variable            Type       Data/Info\n",
        "----------------------------------------\n",
        "DEFAULT_DATA_PATH   str        /users/jerrod/Google Driv<...>ire_2D_20130614/Examples/\n",
        "affinity            module     <module 'affinity' from 'affinity.pyc'>\n",
        "bintree_construct   module     <module 'bintree_construc<...>m 'bintree_construct.py'>\n",
        "data                ndarray    567Lx2428L: 1376676 elems, type `int16`, 2753352 bytes (2 Mb)\n",
        "data_file           str        MMPI2_Depolarized.mat\n",
        "dual_affinity       module     <module 'dual_affinity' from 'dual_affinity.py'>\n",
        "markov              module     <module 'markov' from 'markov.pyc'>\n",
        "mdict               dict       n=7\n",
        "p_score_descs       list       n=18\n",
        "p_scores            ndarray    18Lx2428L: 43704 elems, type `float64`, 349632 bytes (341 kb)\n",
        "q_descs             list       n=567\n",
        "scipy               module     <module 'scipy' from 'C:\\<...>ages\\scipy\\__init__.pyc'>\n",
        "sys                 module     <module 'sys' (built-in)>\n",
        "viewer_files        module     <module 'viewer_files' from 'viewer_files.pyc'>\n",
        "x                   ndarray    1L: 1 elems, type `<U3`, 12 bytes\n"
       ]
      }
     ],
     "prompt_number": 3
    },
    {
     "cell_type": "code",
     "collapsed": false,
     "input": [
      "#Generate initial affinity\n",
      "init_row_aff = affinity.mutual_cosine_similarity(data.T,False,0,0.1)"
     ],
     "language": "python",
     "metadata": {},
     "outputs": [],
     "prompt_number": 4
    },
    {
     "cell_type": "code",
     "collapsed": false,
     "input": [
      "#compute initial diffusion embedding\n",
      "init_row_vecs,init_row_vals = markov.markov_eigs(init_row_aff, 12)"
     ],
     "language": "python",
     "metadata": {},
     "outputs": [],
     "prompt_number": 5
    },
    {
     "cell_type": "code",
     "collapsed": false,
     "input": [
      "#construct initial tree with median cut\n",
      "init_row_tree = bintree_construct.median_tree(init_row_vecs,init_row_vals,max_levels=12)"
     ],
     "language": "python",
     "metadata": {},
     "outputs": [],
     "prompt_number": 6
    },
    {
     "cell_type": "code",
     "collapsed": false,
     "input": [
      "#write out tree viewer info\n",
      "viewer_files.write_tree_viewer(\"row_tree.pickle\",init_row_tree,init_row_vecs,init_row_vals,q_descs,\"Questions\")"
     ],
     "language": "python",
     "metadata": {},
     "outputs": [],
     "prompt_number": 7
    },
    {
     "cell_type": "code",
     "collapsed": false,
     "input": [
      "%run tree_viewer.py row_tree.pickle"
     ],
     "language": "python",
     "metadata": {},
     "outputs": []
    },
    {
     "cell_type": "code",
     "collapsed": false,
     "input": [
      "row_trees = [init_row_tree]\n",
      "col_trees = []"
     ],
     "language": "python",
     "metadata": {},
     "outputs": [],
     "prompt_number": 8
    },
    {
     "cell_type": "code",
     "collapsed": false,
     "input": [
      "#calculate the EMD on the columns using the row tree\n",
      "col_trees.append(bintree_construct.eigen_tree(data,row_trees[-1]))"
     ],
     "language": "python",
     "metadata": {},
     "outputs": [
      {
       "ename": "AssertionError",
       "evalue": "Tree size must match # rows in data.",
       "output_type": "pyerr",
       "traceback": [
        "\u001b[1;31m---------------------------------------------------------------------------\u001b[0m\n\u001b[1;31mAssertionError\u001b[0m                            Traceback (most recent call last)",
        "\u001b[1;32m<ipython-input-15-16ea21cd2887>\u001b[0m in \u001b[0;36m<module>\u001b[1;34m()\u001b[0m\n\u001b[0;32m      1\u001b[0m \u001b[1;31m#calculate the EMD on the columns using the row tree\u001b[0m\u001b[1;33m\u001b[0m\u001b[1;33m\u001b[0m\u001b[0m\n\u001b[0;32m      2\u001b[0m \u001b[0mcol_trees\u001b[0m\u001b[1;33m.\u001b[0m\u001b[0mappend\u001b[0m\u001b[1;33m(\u001b[0m\u001b[0mbintree_construct\u001b[0m\u001b[1;33m.\u001b[0m\u001b[0meigen_tree\u001b[0m\u001b[1;33m(\u001b[0m\u001b[0mdata\u001b[0m\u001b[1;33m,\u001b[0m\u001b[0mrow_trees\u001b[0m\u001b[1;33m[\u001b[0m\u001b[1;33m-\u001b[0m\u001b[1;36m1\u001b[0m\u001b[1;33m]\u001b[0m\u001b[1;33m)\u001b[0m\u001b[1;33m)\u001b[0m\u001b[1;33m\u001b[0m\u001b[0m\n\u001b[1;32m----> 3\u001b[1;33m \u001b[0mcol_emd\u001b[0m \u001b[1;33m=\u001b[0m \u001b[0mdual_affinity\u001b[0m\u001b[1;33m.\u001b[0m\u001b[0mcalc_emd\u001b[0m\u001b[1;33m(\u001b[0m\u001b[0mdata\u001b[0m\u001b[1;33m.\u001b[0m\u001b[0mT\u001b[0m\u001b[1;33m,\u001b[0m\u001b[0mrow_trees\u001b[0m\u001b[1;33m[\u001b[0m\u001b[1;33m-\u001b[0m\u001b[1;36m1\u001b[0m\u001b[1;33m]\u001b[0m\u001b[1;33m)\u001b[0m\u001b[1;33m\u001b[0m\u001b[0m\n\u001b[0m\u001b[0;32m      4\u001b[0m \u001b[0mcol_aff\u001b[0m \u001b[1;33m=\u001b[0m \u001b[0mdual_affinity\u001b[0m\u001b[1;33m.\u001b[0m\u001b[0memd_dual_aff\u001b[0m\u001b[1;33m(\u001b[0m\u001b[0mcol_emd\u001b[0m\u001b[1;33m,\u001b[0m\u001b[0mrow_trees\u001b[0m\u001b[1;33m[\u001b[0m\u001b[1;33m-\u001b[0m\u001b[1;36m1\u001b[0m\u001b[1;33m]\u001b[0m\u001b[1;33m)\u001b[0m\u001b[1;33m\u001b[0m\u001b[0m\n\u001b[0;32m      5\u001b[0m \u001b[0mcol_vecs\u001b[0m\u001b[1;33m,\u001b[0m\u001b[0mcol_vals\u001b[0m \u001b[1;33m=\u001b[0m \u001b[0mmarkov\u001b[0m\u001b[1;33m.\u001b[0m\u001b[0mmarkov_eigs\u001b[0m\u001b[1;33m(\u001b[0m\u001b[0mcol_aff\u001b[0m\u001b[1;33m,\u001b[0m\u001b[1;36m12\u001b[0m\u001b[1;33m)\u001b[0m\u001b[1;33m\u001b[0m\u001b[0m\n",
        "\u001b[1;32mC:\\Users\\jerrod\\Documents\\GitHub\\pyquest\\dual_affinity.py\u001b[0m in \u001b[0;36mcalc_emd\u001b[1;34m(data, row_tree, alpha, beta)\u001b[0m\n\u001b[0;32m     24\u001b[0m     \"\"\"\n\u001b[0;32m     25\u001b[0m     \u001b[0mrows\u001b[0m\u001b[1;33m,\u001b[0m\u001b[0mcols\u001b[0m \u001b[1;33m=\u001b[0m \u001b[0mnp\u001b[0m\u001b[1;33m.\u001b[0m\u001b[0mshape\u001b[0m\u001b[1;33m(\u001b[0m\u001b[0mdata\u001b[0m\u001b[1;33m)\u001b[0m\u001b[1;33m\u001b[0m\u001b[0m\n\u001b[1;32m---> 26\u001b[1;33m     \u001b[1;32massert\u001b[0m \u001b[0mrows\u001b[0m \u001b[1;33m==\u001b[0m \u001b[0mrow_tree\u001b[0m\u001b[1;33m.\u001b[0m\u001b[0msize\u001b[0m\u001b[1;33m,\u001b[0m \u001b[1;34m\"Tree size must match # rows in data.\"\u001b[0m\u001b[1;33m\u001b[0m\u001b[0m\n\u001b[0m\u001b[0;32m     27\u001b[0m \u001b[1;33m\u001b[0m\u001b[0m\n\u001b[0;32m     28\u001b[0m     \u001b[0memd\u001b[0m \u001b[1;33m=\u001b[0m \u001b[0mnp\u001b[0m\u001b[1;33m.\u001b[0m\u001b[0mzeros\u001b[0m\u001b[1;33m(\u001b[0m\u001b[1;33m[\u001b[0m\u001b[0mcols\u001b[0m\u001b[1;33m,\u001b[0m\u001b[0mcols\u001b[0m\u001b[1;33m]\u001b[0m\u001b[1;33m)\u001b[0m\u001b[1;33m\u001b[0m\u001b[0m\n",
        "\u001b[1;31mAssertionError\u001b[0m: Tree size must match # rows in data."
       ]
      }
     ],
     "prompt_number": 15
    },
    {
     "cell_type": "code",
     "collapsed": false,
     "input": [
      "col_emd = dual_affinity.calc_emd(data,row_trees[-1])\n",
      "col_aff = dual_affinity.emd_dual_aff(col_emd)\n",
      "col_vecs,col_vals = markov.markov_eigs(col_aff,12)"
     ],
     "language": "python",
     "metadata": {},
     "outputs": [],
     "prompt_number": 17
    },
    {
     "cell_type": "code",
     "collapsed": false,
     "input": [
      "viewer_files.write_tree_viewer(\"col_tree.pickle\",col_trees[-1],col_vecs,col_vals,tree_desc=\"People\")"
     ],
     "language": "python",
     "metadata": {},
     "outputs": [],
     "prompt_number": 19
    },
    {
     "cell_type": "code",
     "collapsed": false,
     "input": [
      "%run tree_viewer.py col_tree.pickle"
     ],
     "language": "python",
     "metadata": {},
     "outputs": [],
     "prompt_number": 20
    },
    {
     "cell_type": "code",
     "collapsed": false,
     "input": [
      "for _ in xrange(3):\n",
      "    row_trees.append(bintree_construct.eigen_tree(data.T,col_trees[-1]))\n",
      "    col_trees.append(bintree_construct.eigen_tree(data,row_trees[-1]))"
     ],
     "language": "python",
     "metadata": {},
     "outputs": [],
     "prompt_number": 21
    },
    {
     "cell_type": "code",
     "collapsed": false,
     "input": [
      "row_emd = dual_affinity.calc_emd(data.T,col_trees[-1])\n",
      "row_aff = dual_affinity.emd_dual_aff(row_emd)\n",
      "row_vecs,row_vals = markov.markov_eigs(row_aff,12)\n",
      "col_emd = dual_affinity.calc_emd(data,row_trees[-1])\n",
      "col_aff = dual_affinity.emd_dual_aff(col_emd)\n",
      "col_vecs,col_vals = markov.markov_eigs(col_aff,12)\n",
      "\n",
      "viewer_files.write_question_viewer(\"qv.pickle\",data,row_trees[-1],col_trees[-1],row_vecs,row_vals,col_vecs,col_vals,q_descs,p_score_descs,p_scores)"
     ],
     "language": "python",
     "metadata": {},
     "outputs": [],
     "prompt_number": 22
    },
    {
     "cell_type": "code",
     "collapsed": false,
     "input": [
      "%run question_viewer.py qv.pickle"
     ],
     "language": "python",
     "metadata": {},
     "outputs": [
      {
       "output_type": "stream",
       "stream": "stderr",
       "text": [
        "C:\\Python27\\lib\\site-packages\\matplotlib\\__init__.py:1033: UserWarning:  This call to matplotlib.use() has no effect\n",
        "because the the backend has already been chosen;\n",
        "matplotlib.use() must be called *before* pylab, matplotlib.pyplot,\n",
        "or matplotlib.backends is imported for the first time.\n",
        "\n",
        "  warnings.warn(_use_error_msg)\n"
       ]
      }
     ],
     "prompt_number": 23
    },
    {
     "cell_type": "code",
     "collapsed": false,
     "input": [],
     "language": "python",
     "metadata": {},
     "outputs": []
    }
   ],
   "metadata": {}
  }
 ]
}